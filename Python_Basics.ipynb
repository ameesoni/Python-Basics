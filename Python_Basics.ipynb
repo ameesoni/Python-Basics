{
  "nbformat": 4,
  "nbformat_minor": 0,
  "metadata": {
    "colab": {
      "provenance": []
    },
    "kernelspec": {
      "name": "python3",
      "display_name": "Python 3"
    },
    "language_info": {
      "name": "python"
    }
  },
  "cells": [
    {
      "cell_type": "markdown",
      "source": [
        "# Python Basics"
      ],
      "metadata": {
        "id": "ewdlTe9Elkpt"
      }
    },
    {
      "cell_type": "markdown",
      "source": [
        "1. What is Python, and why is it popular?\n",
        "-  Python is a computer programming\n",
        "language known for its simplicity, flexibility and ease with which it can be used.\n",
        "- It helps build webistes, analyse data, design apps or games, etc.\n",
        "- Python is popular because it is simple, has diverse applications and is user friendly."
      ],
      "metadata": {
        "id": "-NhErIDdlrK0"
      }
    },
    {
      "cell_type": "markdown",
      "source": [
        "2. What is an interpreter in Python?\n",
        "- An interpreter is a program used for reading and executing python codes line by line.\n",
        "- First, it will check if the code written is correct.\n",
        "- Then, it will translate and run each line of code one at a time and show results immediately.\n",
        "- If it encounters a mistake in the code, the interpreter stops and tells that there is an error at that specific point.\n",
        "- The interpreter is very important as far as python is concerned, making it simple and great for beginners.\n",
        "\n"
      ],
      "metadata": {
        "id": "U2X0eiZcolP0"
      }
    },
    {
      "cell_type": "markdown",
      "source": [
        "3. What are pre-defined keywords in Python?\n",
        "- Pre- defined keywords in Python are special words that have specific meanings in the language.\n",
        "- These keywords are reseved (you cannot use them as variables, function names or identifiers in a program)\n",
        "- Eack keyword performs a specific task in Python and it cannot be redefined.\n",
        "- Keywords are also case- sensitive and must be written only in lower case (except boolean values True/ False and None, which are capitalized).\n",
        "- They form the foundation of Python's syntax and structure.\n",
        "- Keywords ensure that Python follows specific rules thus making it simple and consistent.\n",
        "- Using them as variables or identifiers will result in errors."
      ],
      "metadata": {
        "id": "wpy7owe4qJUF"
      }
    },
    {
      "cell_type": "markdown",
      "source": [
        "4. Can keywords be used as variable names?\n",
        "- No, keywords cannot be used as variable names in python.\n",
        "- They are reserved words that have pre defined meanings and are intergral to the language's syntax.\n",
        "- Using them as variable names will result in a syntax error because python will interpret them as a part of the code structure and not as a user defined identifier."
      ],
      "metadata": {
        "id": "f6NQKqH4r_l5"
      }
    },
    {
      "cell_type": "markdown",
      "source": [
        "5. What is mutability in Python?\n",
        "- Mutability in python refers to whether an object can be changed/ mutated after it has been defined.\n",
        "- This means that the content can be modified by adding, removing or altering the elements.\n",
        "- Lists, Dictionaries and Sets are the mutable objects in Python.  "
      ],
      "metadata": {
        "id": "t6zI6JpSs780"
      }
    },
    {
      "cell_type": "markdown",
      "source": [
        "6. Why are lists mutable, but tuples are immutable?\n",
        "- The main difference in the mutability between lists and tuples is due to their design and intended uses.\n",
        "- Lists are intended to store collections of items that can change overtime during the program's execution. These are commonly used when there is need to add, remove or update elements frequently.\n",
        "- e.g.\n",
        "       my_list = [1,2,3,4]\n",
        "       my_list.append(5) (Adds an element)\n",
        "       my_list[0] = 7  (Modify an element)\n",
        "       print(my_list)  \n",
        "       Output: [7,1,2,3,4,5]\n",
        "- Tuples on the other hand are used for storing collections of itmes that should not change after creation. They are often used when integrity is important.\n",
        "- Tuples are stored in a way that doesn't allow modification ensuring immutability.\n",
        "- Lists can be used when data modification such as appending, removing or changing elements is needed and tuples can be used when there is a need for constant values, like employee records, database records, etc. thereby ensuring data safety.\n"
      ],
      "metadata": {
        "id": "a9TQzQ2lvTOj"
      }
    },
    {
      "cell_type": "markdown",
      "source": [
        "7.  What is the difference between “==” and “is” operators in Python?\n",
        "- Both these operators are used for comparison but they serve different purposes.\n",
        "- '==\" operator\n",
        "   - it checks whether the values of the two objects are equal.\n",
        "   - It compares the data or content of the objects.\n",
        "   - The output will be True if the values are same otherwise False.\n",
        "   \n",
        "- 'is' operator\n",
        "   - checks whether two objects refer to the same memory location.\n",
        "   -It compares the object references and not the content.\n",
        "   - The output will be True if both the variables point to the same object in the memory, otherwise False.\n",
        "  \n",
        "- Therfore, use '==' when comparison of two values is needed and use 'is' when we have to check if the two variables point to the same object in memory.\n"
      ],
      "metadata": {
        "id": "hZ0ASGWw0_i3"
      }
    },
    {
      "cell_type": "markdown",
      "source": [
        "8. What are logical operators in Python?\n",
        "- Logical operators are used to perform logical operations on boolean values (True/ False).\n",
        "- These help control the flow of a program by combining conditional statements or making decisions.\n",
        "- There are 3 types of logical operators and they are as follows:\n",
        "- and Operator: It returns true if both the conditions are true. Even if a single condition is false, it will return false.\n",
        "- or Operator: It returns true if atleast one condition is true. Unless both the conditions are false, the result will always be true otherwise false.\n",
        "- not Operator: It is used to reverse the logical value of the operand. If the expression is True, the not operator will make it False and vice versa."
      ],
      "metadata": {
        "id": "voqxq_gZLRZi"
      }
    },
    {
      "cell_type": "markdown",
      "source": [
        "9. What is type casting in Python?\n",
        "- Type casting is the process of converting one data type into another.\n",
        "- It allows to change the type of a value to make it compatible with specific operations.\n",
        "- Implicit type casting: It is performed automatically by python. Usually happens when Python converts a smaller data type to a larger one during operations (e.g.: interger to float).\n",
        "-Explicit type casting: It is done manually by the programmer using type conversion functions. Mainly useful for conversion of incompatible data types.\n",
        "- int() : Converts to an integer,     \n",
        "  float() : Converts to a float\n",
        "and many more.\n",
        "- Other important uses are to concatenate different data types in operations (e.g: an integer with a string)\n",
        "- It can also convert input strings into integers or float for calculations.\n",
        "\n"
      ],
      "metadata": {
        "id": "xi_49VOzOOTx"
      }
    },
    {
      "cell_type": "markdown",
      "source": [
        "10. What is the difference between implicit and explicit type casting?\n",
        "- Implicit Type Casting:\n",
        "  - Python automatically converts one data type to another during operations without the need of instructions.\n",
        "  - The programmer has no control over\n",
        "     it.\n",
        "  - It is safe and has no errors.\n",
        "  - It also ensures compatibility during operations.\n",
        "  - e.g.:\n",
        "          x = 12\n",
        "          y = 3.5\n",
        "          a = x + y\n",
        "          print(type(a))  \n",
        "          12 + 3.5 = 15.5 (int-->float)\n",
        "- Explicit Type Casting:\n",
        "  - The programmer explicitly converts one data type to another using built-in type conversion functions (e.g.: ( int(), float(), str(), etc.).\n",
        "  - It is under the full control of the programmer.\n",
        "  - It may lead to errors if the code is not written properly or are invalid.\n",
        "  - Used when python cannot convert automatically.\n",
        "  - e.g.:\n",
        "          x = \"10\"\n",
        "          y = 5\n",
        "          a = int(x) + y\n",
        "          print(a)\n",
        "          The output is 15.\n",
        "          "
      ],
      "metadata": {
        "id": "b2Ht8rrcT0XB"
      }
    },
    {
      "cell_type": "markdown",
      "source": [
        "11. What is the purpose of conditional statements in Python?\n",
        "- Conditional statements are essential for making decisions in a program.\n",
        "- They allow flexibility, adaptability, and the ability to handle various scenarios and making the program more efficient.\n",
        "- They control the flow of a program based on certain specific conditions and allow the program to execute specific blocks of code only when certain conditions are met, enabling an efficient decision making in programming.\n",
        "- A logical expression will always give the result as true or false.\n",
        "- A set of intended statements will execute if the condition is true.\n",
        "- If the condition is false, the statement will not execute and end the program.\n",
        "- if statement:\n",
        "  - It will only execute a block of code if the condition is true.\n",
        "- if-else statement:\n",
        "  - It provides an alternate block of code if the condition is false.\n",
        "- if-elif-else:\n",
        "  - It handles multiple conditions with cascading checks.\n",
        "- nested if:\n",
        "  - It has one if statement inside another for complex conditions."
      ],
      "metadata": {
        "id": "W46qfrARWrxJ"
      }
    },
    {
      "cell_type": "markdown",
      "source": [
        "12. How does the elif statement work?\n",
        "- The elif statement is used to check multiple conditions in a sequential manner.\n",
        "- It allows to handle more than two possibilities making the program flow more organized and readable.\n",
        "- The first condition is an 'if' statement. It is evalauted first. If the condition is true, the code inside the 'if' block is executed, and the 'elif' and 'else' block are ignored.\n",
        "- If the 'if' condition is false, the program will check the 'elif' in sequence. The first 'elif' to give true will execute and the remaining will be ignored.\n",
        "- If both 'if' and 'elif' are false, the code in the 'else' block will be executed."
      ],
      "metadata": {
        "id": "YZkkgOlKZqb9"
      }
    },
    {
      "cell_type": "markdown",
      "source": [
        "13. What is the difference between for and while loops?\n",
        "- Both the 'for' and 'while' loops are used to execute a block of code repeatedly, but they are suited in different scenarios and have different distinct characteristics.\n",
        "- 'for' Loop:\n",
        "  - It is used when the number of terations is known or determined by a range.\n",
        "  -It iterates over a sequence.\n",
        "  - It is best for iterating over items sequencially.\n",
        "  - It automatically handles the iterations of elements.\n",
        "  - It iterates through a range, list or string.\n",
        "  - Comparatively easier and concise for sequence iteration.\n",
        "\n",
        "- 'while' Loop:\n",
        "  - Used when the number of iterations is not known in advance and depends on the condition.\n",
        "  - Executes as long as a specified condition is true.\n",
        "  - Best for indefinite loops that continue until a condition changes.\n",
        "  - Requires manual control.\n",
        "  - It repeatedly prompts the programmer for user input until a valid response is given.\n",
        "  - It is more flexible for custom conditions.\n",
        ""
      ],
      "metadata": {
        "id": "7iosc3cvbKoy"
      }
    },
    {
      "cell_type": "markdown",
      "source": [
        "14. Describe a scenario where a while loop is more suitable than a for loop.\n",
        "- A 'while' loop is more suitable than a 'for' loop when the number of iterations is not known in advance and depends on a condition being met.\n",
        "- An excellent example for using 'while' over 'for' loop will be the entering of passwords.\n",
        "-The number of iterations is not defined as it completely depends upon the user which is unpredictable while, a 'for' loop will require a predetermined range and we do not know how many attepmts will the user will have.\n",
        "- e.g.:\n",
        "       correct_password = \"12345\"\n",
        "       entered_password = \"\"\n",
        "\n",
        "       while entered_password != correct_password:\n",
        "             entered_password = input(\"Enter the password:  \")\n",
        "             if entered_password != correct_password:\n",
        "                print(\"Incorrect Password. Try again\")\n",
        "       \n",
        "       print(\"Welcome\")"
      ],
      "metadata": {
        "id": "-g-beXjldfB7"
      }
    },
    {
      "cell_type": "markdown",
      "source": [
        "#Practical Questions"
      ],
      "metadata": {
        "id": "s3h88oi1gmKc"
      }
    },
    {
      "cell_type": "code",
      "source": [
        "# 1. Write a Python program to print \"Hello, World!\n",
        "print(\"Hello, World\")"
      ],
      "metadata": {
        "colab": {
          "base_uri": "https://localhost:8080/"
        },
        "id": "qup7DhnRgfJH",
        "outputId": "10de0a65-4424-4050-8417-6d56b45a973c"
      },
      "execution_count": 2,
      "outputs": [
        {
          "output_type": "stream",
          "name": "stdout",
          "text": [
            "Hello, World\n"
          ]
        }
      ]
    },
    {
      "cell_type": "code",
      "source": [
        "# 2. Write a Python program that displays your name and age.\n",
        "name = \"Amee\"\n",
        "age = 22\n",
        "print(\"My name is \", name)\n",
        "print (\"I am\", age)"
      ],
      "metadata": {
        "colab": {
          "base_uri": "https://localhost:8080/"
        },
        "id": "nwylyqTlg6sF",
        "outputId": "8f5e2e6b-c1b4-45fe-b510-d1ca2b29aee6"
      },
      "execution_count": 3,
      "outputs": [
        {
          "output_type": "stream",
          "name": "stdout",
          "text": [
            "My name is  Amee\n",
            "I am 22\n"
          ]
        }
      ]
    },
    {
      "cell_type": "code",
      "source": [
        "# 3. Write code to print all the pre-defined keywords in Python using the keyword library\n",
        "import keyword\n",
        "print(keyword.kwlist)"
      ],
      "metadata": {
        "colab": {
          "base_uri": "https://localhost:8080/"
        },
        "id": "9QNNbQSahUR6",
        "outputId": "9bc84d77-c9c2-40b5-bea0-74c2288c4c91"
      },
      "execution_count": 4,
      "outputs": [
        {
          "output_type": "stream",
          "name": "stdout",
          "text": [
            "['False', 'None', 'True', 'and', 'as', 'assert', 'async', 'await', 'break', 'class', 'continue', 'def', 'del', 'elif', 'else', 'except', 'finally', 'for', 'from', 'global', 'if', 'import', 'in', 'is', 'lambda', 'nonlocal', 'not', 'or', 'pass', 'raise', 'return', 'try', 'while', 'with', 'yield']\n"
          ]
        }
      ]
    },
    {
      "cell_type": "code",
      "source": [
        "# 4. Write a program that checks if a given word is a Python keyword\n",
        "\n",
        "import keyword\n",
        "a = input(\"Enter a word: \")\n",
        "if keyword.iskeyword(a):\n",
        "  print(f\" '{a}' is a python keyword\")\n",
        "else:\n",
        "  print(f\" '{a}' is not a python keyword\")\n"
      ],
      "metadata": {
        "colab": {
          "base_uri": "https://localhost:8080/"
        },
        "id": "3b5PK9d-ht64",
        "outputId": "6074a7b9-8342-4aa4-c21e-17e9c9501549"
      },
      "execution_count": 16,
      "outputs": [
        {
          "output_type": "stream",
          "name": "stdout",
          "text": [
            "Enter a word: while\n",
            " 'while' is a python keyword\n"
          ]
        }
      ]
    },
    {
      "cell_type": "code",
      "source": [
        "# 5.Create a list and tuple in Python, and demonstrate how attempting to change an element works differently for each\n",
        "\n",
        "mylist = [1, 2, 3, 4, 5]\n",
        "mytuple = (1, 2, 3, 4, 5)\n",
        "print(\"Original List:\", mylist)\n",
        "mylist[3] = 50\n",
        "print(\"Modified list:\", mylist)\n",
        "print(\"\\nOriginal Tuple:\", mytuple)\n",
        "mytuple[3] = 50\n",
        "print(\"Modified Tuple: Error\")"
      ],
      "metadata": {
        "colab": {
          "base_uri": "https://localhost:8080/",
          "height": 263
        },
        "id": "UY3bxt-7i8nc",
        "outputId": "cb19507b-00ec-4b89-9c26-275a30a4192c"
      },
      "execution_count": 19,
      "outputs": [
        {
          "output_type": "stream",
          "name": "stdout",
          "text": [
            "Original List: [1, 2, 3, 4, 5]\n",
            "Modified list: [1, 2, 3, 50, 5]\n",
            "\n",
            "Original Tuple: (1, 2, 3, 4, 5)\n"
          ]
        },
        {
          "output_type": "error",
          "ename": "TypeError",
          "evalue": "'tuple' object does not support item assignment",
          "traceback": [
            "\u001b[0;31m---------------------------------------------------------------------------\u001b[0m",
            "\u001b[0;31mTypeError\u001b[0m                                 Traceback (most recent call last)",
            "\u001b[0;32m<ipython-input-19-161893ec2921>\u001b[0m in \u001b[0;36m<cell line: 9>\u001b[0;34m()\u001b[0m\n\u001b[1;32m      7\u001b[0m \u001b[0mprint\u001b[0m\u001b[0;34m(\u001b[0m\u001b[0;34m\"Modified list:\"\u001b[0m\u001b[0;34m,\u001b[0m \u001b[0mmylist\u001b[0m\u001b[0;34m)\u001b[0m\u001b[0;34m\u001b[0m\u001b[0;34m\u001b[0m\u001b[0m\n\u001b[1;32m      8\u001b[0m \u001b[0mprint\u001b[0m\u001b[0;34m(\u001b[0m\u001b[0;34m\"\\nOriginal Tuple:\"\u001b[0m\u001b[0;34m,\u001b[0m \u001b[0mmytuple\u001b[0m\u001b[0;34m)\u001b[0m\u001b[0;34m\u001b[0m\u001b[0;34m\u001b[0m\u001b[0m\n\u001b[0;32m----> 9\u001b[0;31m \u001b[0mmytuple\u001b[0m\u001b[0;34m[\u001b[0m\u001b[0;36m3\u001b[0m\u001b[0;34m]\u001b[0m \u001b[0;34m=\u001b[0m \u001b[0;36m50\u001b[0m\u001b[0;34m\u001b[0m\u001b[0;34m\u001b[0m\u001b[0m\n\u001b[0m\u001b[1;32m     10\u001b[0m \u001b[0mprint\u001b[0m\u001b[0;34m(\u001b[0m\u001b[0;34m\"Modified Tuple: Error\"\u001b[0m\u001b[0;34m)\u001b[0m\u001b[0;34m\u001b[0m\u001b[0;34m\u001b[0m\u001b[0m\n",
            "\u001b[0;31mTypeError\u001b[0m: 'tuple' object does not support item assignment"
          ]
        }
      ]
    },
    {
      "cell_type": "code",
      "source": [
        "# 6.  Write a function to demonstrate the behavior of mutable and immutable arguments\n",
        "def modify_arguments(mutable_arg, immutable_arg):\n",
        "    mutable_arg.append(100)\n",
        "\n",
        "    immutable_arg = (immutable_arg[0], 200)\n",
        "    print(\"Before\")\n",
        "    print(\"Mutable argument:\", mutable_arg)\n",
        "    print(\"Immutable argument:\", immutable_arg)\n",
        "\n",
        "my_list = [1, 2, 3]\n",
        "my_tuple = (1, 2, 3)\n",
        "\n",
        "modify_arguments(my_list, my_tuple)\n",
        "print(\"After\")\n",
        "print(\"List after :\", my_list)\n",
        "print(\"Tuple after :\", my_tuple)\n"
      ],
      "metadata": {
        "colab": {
          "base_uri": "https://localhost:8080/"
        },
        "id": "OmGMo09cnMje",
        "outputId": "cdc6505b-06b9-4eda-e615-ea6afe890660"
      },
      "execution_count": 3,
      "outputs": [
        {
          "output_type": "stream",
          "name": "stdout",
          "text": [
            "Before\n",
            "Mutable argument: [1, 2, 3, 100]\n",
            "Immutable argument: (1, 200)\n",
            "After\n",
            "List after : [1, 2, 3, 100]\n",
            "Tuple after : (1, 2, 3)\n"
          ]
        }
      ]
    },
    {
      "cell_type": "code",
      "source": [
        "# 7. Write a function to demonstrate the behavior of mutable and immutable arguments\n",
        "def modify_arguments(mutable_arg, immutable_arg):\n",
        "    mutable_arg.append(100)\n",
        "\n",
        "    immutable_arg = (immutable_arg[0], 200)\n",
        "    print(\"Before\")\n",
        "    print(\"Mutable argument:\", mutable_arg)\n",
        "    print(\"Immutable argument:\", immutable_arg)\n",
        "\n",
        "my_list = [1, 2, 3]\n",
        "my_tuple = (1, 2, 3)\n",
        "\n",
        "modify_arguments(my_list, my_tuple)\n",
        "print(\"After\")\n",
        "print(\"List after :\", my_list)\n",
        "print(\"Tuple after :\", my_tuple)"
      ],
      "metadata": {
        "colab": {
          "base_uri": "https://localhost:8080/"
        },
        "id": "081RlfDmtLap",
        "outputId": "bfefacab-f902-4cee-aea7-0451bd2bf28e"
      },
      "execution_count": 4,
      "outputs": [
        {
          "output_type": "stream",
          "name": "stdout",
          "text": [
            "Before\n",
            "Mutable argument: [1, 2, 3, 100]\n",
            "Immutable argument: (1, 200)\n",
            "After\n",
            "List after : [1, 2, 3, 100]\n",
            "Tuple after : (1, 2, 3)\n"
          ]
        }
      ]
    },
    {
      "cell_type": "code",
      "source": [
        "# 8. Write a program to demonstrate the use of logical operators?\n",
        "a = float(input(\"Enter the first number: \"))\n",
        "b = float(input(\"Enter the second number: \"))\n",
        "\n",
        "# using 'and' operator\n",
        "if a > 0 and b > 0:\n",
        "  print(\"Both the numbers are positive.\")\n",
        "\n",
        "# using 'or' operator\n",
        "if a > 0 or b > 0:\n",
        "  print(\"Atleast one of the numbers is positive.\")\n",
        "\n",
        "# using 'not' operator\n",
        "if not (a > 0):\n",
        "  print(\"The first number is not positive.\")"
      ],
      "metadata": {
        "colab": {
          "base_uri": "https://localhost:8080/"
        },
        "id": "CDckk8ZDuPnx",
        "outputId": "a73b8bbe-f6d5-4487-a5b3-58c9c47c1f03"
      },
      "execution_count": 6,
      "outputs": [
        {
          "output_type": "stream",
          "name": "stdout",
          "text": [
            "Enter the first number: -8\n",
            "Enter the second number: -9\n",
            "The first number is not positive.\n"
          ]
        }
      ]
    },
    {
      "cell_type": "code",
      "source": [
        "# 9. Write a Python program to convert user input from string to integer, float, and boolean types\n",
        "\n",
        "user_input = input(\"Enter a value: \")\n",
        "\n",
        "#Convert to an integer\n",
        "\n",
        "try:\n",
        "  integer_value = int(user_input)\n",
        "  print(\"Integer value:\", integer_value)\n",
        "except ValueError:\n",
        "  print(\"Invalid input. Please enter a valid integer.\")\n",
        "\n",
        "# Convert to a float\n",
        "try:\n",
        "  float_value = float(user_input)\n",
        "  print(\"Float value:\", float_value)\n",
        "except ValueError:\n",
        "  print(\"Invalid input. Please enter a valid float.\")\n",
        "\n",
        "# Convert to a boolean\n",
        "try:\n",
        "  boolean_value = bool(user_input)\n",
        "  print(\"Boolean value:\", boolean_value)\n",
        "except ValueError:\n",
        "  print(\"Invalid input. Please enter a valid boolean value.\")"
      ],
      "metadata": {
        "colab": {
          "base_uri": "https://localhost:8080/"
        },
        "id": "0P9moxnSv0kW",
        "outputId": "2d1fc2da-6616-4bda-b55a-88be1b4d5708"
      },
      "execution_count": 20,
      "outputs": [
        {
          "output_type": "stream",
          "name": "stdout",
          "text": [
            "Enter a value: 12\n",
            "Integer value: 12\n",
            "Float value: 12.0\n",
            "Boolean value: True\n"
          ]
        }
      ]
    },
    {
      "cell_type": "code",
      "source": [
        "# 10. Write code to demonstrate type casting with list elements\n",
        "\n",
        "list = [1, 2, 2.3, 4, \"5\", False]\n",
        "\n",
        "int_list = [int(a) for a in list]\n",
        "float_list = [float(a) for a in list]\n",
        "str_list = [str(a) for a in list]\n",
        "bool_list = [bool(a) for a in list]\n",
        "\n",
        "print(\"Original List:\", list)\n",
        "print(\"Integer List:\", int_list)\n",
        "print(\"Float List:\", float_list)\n",
        "print(\"String List:\", str_list)\n",
        "print(\"Boolean List:\", bool_list)"
      ],
      "metadata": {
        "colab": {
          "base_uri": "https://localhost:8080/"
        },
        "id": "7m4Zn-EOzp43",
        "outputId": "d7b1959c-740e-4d0a-8c17-dfac15895673"
      },
      "execution_count": 25,
      "outputs": [
        {
          "output_type": "stream",
          "name": "stdout",
          "text": [
            "Original List: [1, 2, 2.3, 4, '5', False]\n",
            "Integer List: [1, 2, 2, 4, 5, 0]\n",
            "Float List: [1.0, 2.0, 2.3, 4.0, 5.0, 0.0]\n",
            "String List: ['1', '2', '2.3', '4', '5', 'False']\n",
            "Boolean List: [True, True, True, True, True, False]\n"
          ]
        }
      ]
    },
    {
      "cell_type": "code",
      "source": [
        "# 11. Write a program that checks if a number is positive, negative, or zero\n",
        "\n",
        "a = float(input(\"Enter a  number: \"))\n",
        "if a > 0:\n",
        "  print(\"The number is positive.\", a)\n",
        "elif a < 0:\n",
        "  print(\"The number is negative\", a)\n",
        "else:\n",
        "  print(\"The number is zero\")"
      ],
      "metadata": {
        "colab": {
          "base_uri": "https://localhost:8080/"
        },
        "id": "a9oXA-Cy1WaK",
        "outputId": "1b21d726-f7b3-4efd-a33c-c1e53f609aaf"
      },
      "execution_count": 28,
      "outputs": [
        {
          "output_type": "stream",
          "name": "stdout",
          "text": [
            "Enter a  number: 0\n",
            "The number is zero\n"
          ]
        }
      ]
    },
    {
      "cell_type": "code",
      "source": [
        "# 12.  Write a for loop to print numbers from 1 to 10.\n",
        "\n",
        "for x in range(1, 11):\n",
        "  print(x)\n",
        "\n"
      ],
      "metadata": {
        "colab": {
          "base_uri": "https://localhost:8080/"
        },
        "id": "kuC1RqfY2H5c",
        "outputId": "ab6e22a4-309b-438a-ec71-fffa3f594680"
      },
      "execution_count": 29,
      "outputs": [
        {
          "output_type": "stream",
          "name": "stdout",
          "text": [
            "1\n",
            "2\n",
            "3\n",
            "4\n",
            "5\n",
            "6\n",
            "7\n",
            "8\n",
            "9\n",
            "10\n"
          ]
        }
      ]
    },
    {
      "cell_type": "code",
      "source": [
        "# 13. Write a Python program to find the sum of all even numbers between 1 and 50.\n",
        "sum = 0\n",
        "\n",
        "for a in range(1, 51):\n",
        "  if a % 2 == 0:\n",
        "    sum += a\n",
        "\n",
        "print(\"The sum of all even numbers between 1 to 50 is:\", sum)"
      ],
      "metadata": {
        "colab": {
          "base_uri": "https://localhost:8080/"
        },
        "id": "_YSBCGA-2riu",
        "outputId": "44712042-a312-4421-b686-8b672678bdd5"
      },
      "execution_count": 33,
      "outputs": [
        {
          "output_type": "stream",
          "name": "stdout",
          "text": [
            "The sum of all even numbers between 1 to 50 is: 650\n"
          ]
        }
      ]
    },
    {
      "cell_type": "code",
      "source": [
        "# 14. Write a program to reverse a string using a while loop.\n",
        "\n",
        "a = (\"Butterfly\")\n",
        "while len(a) > 0:\n",
        "  print(a[-1])\n",
        "  a = a[:-1]"
      ],
      "metadata": {
        "colab": {
          "base_uri": "https://localhost:8080/"
        },
        "id": "Qh6kVLSC3RtZ",
        "outputId": "d5f4a753-ed69-44a0-d597-7aa7ca08c54f"
      },
      "execution_count": 34,
      "outputs": [
        {
          "output_type": "stream",
          "name": "stdout",
          "text": [
            "y\n",
            "l\n",
            "f\n",
            "r\n",
            "e\n",
            "t\n",
            "t\n",
            "u\n",
            "B\n"
          ]
        }
      ]
    },
    {
      "cell_type": "code",
      "source": [
        "# 15. Write a Python program to calculate the factorial of a number provided by the user using a while loop.\n",
        "\n",
        "z = int(input(\"Enter a number: \"))\n",
        "factorial = 1\n",
        "while z > 0:\n",
        "  factorial *= z\n",
        "  z -= 1\n",
        "print(\"The factorial of the number is:\", factorial)\n"
      ],
      "metadata": {
        "colab": {
          "base_uri": "https://localhost:8080/"
        },
        "id": "l74GSfJ-4EY2",
        "outputId": "d750745b-91a3-4068-9e38-17aa1c9cce7b"
      },
      "execution_count": 35,
      "outputs": [
        {
          "output_type": "stream",
          "name": "stdout",
          "text": [
            "Enter a number: 5\n",
            "The factorial of the number is: 120\n"
          ]
        }
      ]
    },
    {
      "cell_type": "code",
      "source": [],
      "metadata": {
        "id": "mcX-5vOk4ipx"
      },
      "execution_count": null,
      "outputs": []
    }
  ]
}